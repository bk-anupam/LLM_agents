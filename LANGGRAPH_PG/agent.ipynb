{
 "cells": [
  {
   "cell_type": "code",
   "execution_count": 16,
   "metadata": {},
   "outputs": [
    {
     "data": {
      "text/plain": [
       "True"
      ]
     },
     "execution_count": 16,
     "metadata": {},
     "output_type": "execute_result"
    }
   ],
   "source": [
    "import os\n",
    "from dotenv import load_dotenv, find_dotenv\n",
    "\n",
    "dotenv_path = find_dotenv()\n",
    "load_dotenv(dotenv_path)  # This loads the variables from .env"
   ]
  },
  {
   "cell_type": "code",
   "execution_count": null,
   "metadata": {},
   "outputs": [],
   "source": [
    "# This will be a tool\n",
    "def multiply(a: int, b: int) -> int:\n",
    "    \"\"\"Multiply a and b.\n",
    "\n",
    "    Args:\n",
    "        a: first int\n",
    "        b: second int\n",
    "    \"\"\"\n",
    "    return a * b\n",
    "\n",
    "# This will be a tool\n",
    "def add(a: int, b: int) -> int:\n",
    "    \"\"\"Adds a and b.\n",
    "\n",
    "    Args:\n",
    "        a: first int\n",
    "        b: second int\n",
    "    \"\"\"\n",
    "    return a + b\n",
    "\n",
    "# This will be a tool\n",
    "def divide(a: int, b: int) -> float:\n",
    "    \"\"\"Divide a and b.\n",
    "\n",
    "    Args:\n",
    "        a: first int\n",
    "        b: second int\n",
    "    \"\"\"\n",
    "    return a / b"
   ]
  },
  {
   "cell_type": "code",
   "execution_count": 19,
   "metadata": {},
   "outputs": [],
   "source": [
    "from langchain_google_genai import ChatGoogleGenerativeAI\n",
    "\n",
    "tools = [add, multiply, divide]\n",
    "llm = ChatGoogleGenerativeAI(model=\"gemini-2.0-flash\", temperature=1.0)\n",
    "\n",
    "# For this ipynb we set parallel tool calling to false as math generally is done sequentially, and this time we have 3 tools that can do math\n",
    "# the OpenAI model specifically defaults to parallel tool calling for efficiency, see https://python.langchain.com/docs/how_to/tool_calling_parallel/\n",
    "# play around with it and see how the model behaves with math equations!\n",
    "llm_with_tools = llm.bind_tools(tools)"
   ]
  },
  {
   "cell_type": "code",
   "execution_count": 20,
   "metadata": {},
   "outputs": [],
   "source": [
    "from langgraph.graph import MessagesState\n",
    "from langchain_core.messages import HumanMessage, SystemMessage\n",
    "\n",
    "# System message\n",
    "sys_msg = SystemMessage(content=\"You are a helpful assistant tasked with performing arithmetic on a set of inputs.\")\n",
    "\n",
    "# Node\n",
    "def assistant(state: MessagesState):\n",
    "   return {\"messages\": [llm_with_tools.invoke([sys_msg] + state[\"messages\"])]}"
   ]
  },
  {
   "cell_type": "code",
   "execution_count": 21,
   "metadata": {},
   "outputs": [
    {
     "data": {
      "image/png": "[encoded data removed]",
      "text/plain": [
       "<IPython.core.display.Image object>"
      ]
     },
     "metadata": {},
     "output_type": "display_data"
    }
   ],
   "source": [
    "from langgraph.graph import START, StateGraph\n",
    "from langgraph.prebuilt import tools_condition\n",
    "from langgraph.prebuilt import ToolNode\n",
    "from IPython.display import Image, display\n",
    "from langgraph.checkpoint.memory import MemorySaver\n",
    "\n",
    "# Graph\n",
    "builder = StateGraph(MessagesState)\n",
    "memory = MemorySaver()\n",
    "\n",
    "# Define nodes: these do the work\n",
    "builder.add_node(\"assistant\", assistant)\n",
    "builder.add_node(\"tools\", ToolNode(tools))\n",
    "\n",
    "# Define edges: these determine how the control flow moves\n",
    "builder.add_edge(START, \"assistant\")\n",
    "builder.add_conditional_edges(\n",
    "    \"assistant\",\n",
    "    # If the latest message (result) from assistant is a tool call -> tools_condition routes to tools\n",
    "    # If the latest message (result) from assistant is a not a tool call -> tools_condition routes to END\n",
    "    tools_condition,\n",
    ")\n",
    "builder.add_edge(\"tools\", \"assistant\")\n",
    "react_graph = builder.compile(checkpointer=memory)\n",
    "\n",
    "# Show\n",
    "display(Image(react_graph.get_graph(xray=True).draw_mermaid_png()))"
   ]
  },
  {
   "cell_type": "code",
   "execution_count": 22,
   "metadata": {},
   "outputs": [],
   "source": [
    "# specify a thread\n",
    "config = {\"configurable\": {\"thread_id\": \"1\"}}\n",
    "messages = [HumanMessage(content=\"Add 1 and 4. Multiply the output by 2. Divide the output by 5\")]\n",
    "messages = react_graph.invoke({\"messages\": messages}, config)"
   ]
  },
  {
   "cell_type": "code",
   "execution_count": 23,
   "metadata": {},
   "outputs": [
    {
     "name": "stdout",
     "output_type": "stream",
     "text": [
      "================================\u001b[1m Human Message \u001b[0m=================================\n",
      "\n",
      "Add 1 and 4. Multiply the output by 2. Divide the output by 5\n",
      "==================================\u001b[1m Ai Message \u001b[0m==================================\n",
      "Tool Calls:\n",
      "  add (851d719b-51f6-4a2a-823c-4ac4fcfc8790)\n",
      " Call ID: 851d719b-51f6-4a2a-823c-4ac4fcfc8790\n",
      "  Args:\n",
      "    a: 1.0\n",
      "    b: 4.0\n",
      "=================================\u001b[1m Tool Message \u001b[0m=================================\n",
      "Name: add\n",
      "\n",
      "5\n",
      "==================================\u001b[1m Ai Message \u001b[0m==================================\n",
      "Tool Calls:\n",
      "  multiply (635ee4f5-2ce5-4509-afec-0e84e2ce2ae5)\n",
      " Call ID: 635ee4f5-2ce5-4509-afec-0e84e2ce2ae5\n",
      "  Args:\n",
      "    a: 5.0\n",
      "    b: 2.0\n",
      "=================================\u001b[1m Tool Message \u001b[0m=================================\n",
      "Name: multiply\n",
      "\n",
      "10\n",
      "==================================\u001b[1m Ai Message \u001b[0m==================================\n",
      "Tool Calls:\n",
      "  divide (e5f489e0-420a-42d7-96a3-58ec12bed7b1)\n",
      " Call ID: e5f489e0-420a-42d7-96a3-58ec12bed7b1\n",
      "  Args:\n",
      "    a: 10.0\n",
      "    b: 5.0\n",
      "=================================\u001b[1m Tool Message \u001b[0m=================================\n",
      "Name: divide\n",
      "\n",
      "2.0\n",
      "==================================\u001b[1m Ai Message \u001b[0m==================================\n",
      "\n",
      "The answer is 2.\n"
     ]
    }
   ],
   "source": [
    "for m in messages['messages']:\n",
    "    m.pretty_print()"
   ]
  },
  {
   "cell_type": "code",
   "execution_count": 24,
   "metadata": {},
   "outputs": [
    {
     "name": "stdout",
     "output_type": "stream",
     "text": [
      "================================\u001b[1m Human Message \u001b[0m=================================\n",
      "\n",
      "Add 1 and 4. Multiply the output by 2. Divide the output by 5\n",
      "==================================\u001b[1m Ai Message \u001b[0m==================================\n",
      "Tool Calls:\n",
      "  add (851d719b-51f6-4a2a-823c-4ac4fcfc8790)\n",
      " Call ID: 851d719b-51f6-4a2a-823c-4ac4fcfc8790\n",
      "  Args:\n",
      "    a: 1.0\n",
      "    b: 4.0\n",
      "=================================\u001b[1m Tool Message \u001b[0m=================================\n",
      "Name: add\n",
      "\n",
      "5\n",
      "==================================\u001b[1m Ai Message \u001b[0m==================================\n",
      "Tool Calls:\n",
      "  multiply (635ee4f5-2ce5-4509-afec-0e84e2ce2ae5)\n",
      " Call ID: 635ee4f5-2ce5-4509-afec-0e84e2ce2ae5\n",
      "  Args:\n",
      "    a: 5.0\n",
      "    b: 2.0\n",
      "=================================\u001b[1m Tool Message \u001b[0m=================================\n",
      "Name: multiply\n",
      "\n",
      "10\n",
      "==================================\u001b[1m Ai Message \u001b[0m==================================\n",
      "Tool Calls:\n",
      "  divide (e5f489e0-420a-42d7-96a3-58ec12bed7b1)\n",
      " Call ID: e5f489e0-420a-42d7-96a3-58ec12bed7b1\n",
      "  Args:\n",
      "    a: 10.0\n",
      "    b: 5.0\n",
      "=================================\u001b[1m Tool Message \u001b[0m=================================\n",
      "Name: divide\n",
      "\n",
      "2.0\n",
      "==================================\u001b[1m Ai Message \u001b[0m==================================\n",
      "\n",
      "The answer is 2.\n",
      "================================\u001b[1m Human Message \u001b[0m=================================\n",
      "\n",
      "Multiply previous result by 5\n",
      "==================================\u001b[1m Ai Message \u001b[0m==================================\n",
      "Tool Calls:\n",
      "  multiply (219a390f-28d1-4754-8ee9-418816d56f9d)\n",
      " Call ID: 219a390f-28d1-4754-8ee9-418816d56f9d\n",
      "  Args:\n",
      "    a: 2.0\n",
      "    b: 5.0\n",
      "=================================\u001b[1m Tool Message \u001b[0m=================================\n",
      "Name: multiply\n",
      "\n",
      "10\n",
      "==================================\u001b[1m Ai Message \u001b[0m==================================\n",
      "\n",
      "The answer is 10.\n"
     ]
    }
   ],
   "source": [
    "messages = [HumanMessage(content=\"Multiply previous result by 5\")]\n",
    "messages = react_graph.invoke({\"messages\": messages}, config)\n",
    "for m in messages['messages']:\n",
    "    m.pretty_print()"
   ]
  },
  {
   "cell_type": "code",
   "execution_count": 25,
   "metadata": {},
   "outputs": [
    {
     "data": {
      "text/plain": [
       "{'messages': [HumanMessage(content='Add 1 and 4. Multiply the output by 2. Divide the output by 5', additional_kwargs={}, response_metadata={}, id='d17c5127-b967-4cdf-bd0d-cd26867a1e5d'),\n",
       "  AIMessage(content='', additional_kwargs={'function_call': {'name': 'add', 'arguments': '{\"a\": 1.0, \"b\": 4.0}'}}, response_metadata={'prompt_feedback': {'block_reason': 0, 'safety_ratings': []}, 'finish_reason': 'STOP', 'safety_ratings': []}, id='run-826adb04-6cab-49f2-9871-0bd0e281eabb-0', tool_calls=[{'name': 'add', 'args': {'a': 1.0, 'b': 4.0}, 'id': '851d719b-51f6-4a2a-823c-4ac4fcfc8790', 'type': 'tool_call'}], usage_metadata={'input_tokens': 77, 'output_tokens': 3, 'total_tokens': 80, 'input_token_details': {'cache_read': 0}}),\n",
       "  ToolMessage(content='5', name='add', id='d23189f6-9a32-4023-890f-20185d8beaab', tool_call_id='851d719b-51f6-4a2a-823c-4ac4fcfc8790'),\n",
       "  AIMessage(content='', additional_kwargs={'function_call': {'name': 'multiply', 'arguments': '{\"a\": 5.0, \"b\": 2.0}'}}, response_metadata={'prompt_feedback': {'block_reason': 0, 'safety_ratings': []}, 'finish_reason': 'STOP', 'safety_ratings': []}, id='run-72e7d2ea-57d3-4f86-81c5-706e6a114b7d-0', tool_calls=[{'name': 'multiply', 'args': {'a': 5.0, 'b': 2.0}, 'id': '635ee4f5-2ce5-4509-afec-0e84e2ce2ae5', 'type': 'tool_call'}], usage_metadata={'input_tokens': 82, 'output_tokens': 3, 'total_tokens': 85, 'input_token_details': {'cache_read': 0}}),\n",
       "  ToolMessage(content='10', name='multiply', id='06eba10a-614b-4b53-81c4-d70e4bb0fdb4', tool_call_id='635ee4f5-2ce5-4509-afec-0e84e2ce2ae5'),\n",
       "  AIMessage(content='', additional_kwargs={'function_call': {'name': 'divide', 'arguments': '{\"a\": 10.0, \"b\": 5.0}'}}, response_metadata={'prompt_feedback': {'block_reason': 0, 'safety_ratings': []}, 'finish_reason': 'STOP', 'safety_ratings': []}, id='run-7881f725-31bc-41d8-858b-8adce2427912-0', tool_calls=[{'name': 'divide', 'args': {'a': 10.0, 'b': 5.0}, 'id': 'e5f489e0-420a-42d7-96a3-58ec12bed7b1', 'type': 'tool_call'}], usage_metadata={'input_tokens': 87, 'output_tokens': 3, 'total_tokens': 90, 'input_token_details': {'cache_read': 0}}),\n",
       "  ToolMessage(content='2.0', name='divide', id='a7076d34-1177-452c-9cd3-ecb3971042f3', tool_call_id='e5f489e0-420a-42d7-96a3-58ec12bed7b1'),\n",
       "  AIMessage(content='The answer is 2.', additional_kwargs={}, response_metadata={'prompt_feedback': {'block_reason': 0, 'safety_ratings': []}, 'finish_reason': 'STOP', 'safety_ratings': []}, id='run-44fc649e-6d01-47ed-93b0-12484d3eb631-0', usage_metadata={'input_tokens': 92, 'output_tokens': 6, 'total_tokens': 98, 'input_token_details': {'cache_read': 0}}),\n",
       "  HumanMessage(content='Multiply previous result by 5', additional_kwargs={}, response_metadata={}, id='84952bbf-0529-4743-9f05-daa2e31d2eaa'),\n",
       "  AIMessage(content='', additional_kwargs={'function_call': {'name': 'multiply', 'arguments': '{\"a\": 2.0, \"b\": 5.0}'}}, response_metadata={'prompt_feedback': {'block_reason': 0, 'safety_ratings': []}, 'finish_reason': 'STOP', 'safety_ratings': []}, id='run-f6ebb0fb-ed8f-4fcc-87ca-c504d11d3736-0', tool_calls=[{'name': 'multiply', 'args': {'a': 2.0, 'b': 5.0}, 'id': '219a390f-28d1-4754-8ee9-418816d56f9d', 'type': 'tool_call'}], usage_metadata={'input_tokens': 104, 'output_tokens': 3, 'total_tokens': 107, 'input_token_details': {'cache_read': 0}}),\n",
       "  ToolMessage(content='10', name='multiply', id='9137bb7e-3103-4d0c-bd0f-bd9dc9131654', tool_call_id='219a390f-28d1-4754-8ee9-418816d56f9d'),\n",
       "  AIMessage(content='The answer is 10.', additional_kwargs={}, response_metadata={'prompt_feedback': {'block_reason': 0, 'safety_ratings': []}, 'finish_reason': 'STOP', 'safety_ratings': []}, id='run-ec065aa4-3915-417e-9741-ac737baf6365-0', usage_metadata={'input_tokens': 109, 'output_tokens': 7, 'total_tokens': 116, 'input_token_details': {'cache_read': 0}})]}"
      ]
     },
     "execution_count": 25,
     "metadata": {},
     "output_type": "execute_result"
    }
   ],
   "source": [
    "messages"
   ]
  }
 ],
 "metadata": {
  "kernelspec": {
   "display_name": "ml_env",
   "language": "python",
   "name": "python3"
  },
  "language_info": {
   "codemirror_mode": {
    "name": "ipython",
    "version": 3
   },
   "file_extension": ".py",
   "mimetype": "text/x-python",
   "name": "python",
   "nbconvert_exporter": "python",
   "pygments_lexer": "ipython3",
   "version": "3.11.9"
  }
 },
 "nbformat": 4,
 "nbformat_minor": 2
}
